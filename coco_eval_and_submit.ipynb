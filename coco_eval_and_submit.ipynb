{
 "cells": [
  {
   "cell_type": "code",
   "execution_count": 1,
   "id": "7ab1909e",
   "metadata": {},
   "outputs": [],
   "source": [
    "from pycocotools.coco import COCO\n",
    "from pycocotools.cocoeval import COCOeval\n",
    "import torch\n",
    "import json"
   ]
  },
  {
   "cell_type": "code",
   "execution_count": 14,
   "id": "0a183b53",
   "metadata": {},
   "outputs": [
    {
     "name": "stdout",
     "output_type": "stream",
     "text": [
      "loading annotations into memory...\n",
      "Done (t=0.20s)\n",
      "creating index...\n",
      "index created!\n",
      "Loading and preparing results...\n",
      "DONE (t=1.41s)\n",
      "creating index...\n",
      "index created!\n",
      "Running per image evaluation...\n",
      "Evaluate annotation type *bbox*\n",
      "DONE (t=6.48s).\n",
      "Accumulating evaluation results...\n",
      "DONE (t=0.93s).\n",
      " Average Precision  (AP) @[ IoU=0.50:0.95 | area=   all | maxDets=100 ] = 0.438\n",
      " Average Precision  (AP) @[ IoU=0.50      | area=   all | maxDets=100 ] = 0.777\n",
      " Average Precision  (AP) @[ IoU=0.75      | area=   all | maxDets=100 ] = 0.441\n",
      " Average Precision  (AP) @[ IoU=0.50:0.95 | area= small | maxDets=100 ] = 0.237\n",
      " Average Precision  (AP) @[ IoU=0.50:0.95 | area=medium | maxDets=100 ] = 0.475\n",
      " Average Precision  (AP) @[ IoU=0.50:0.95 | area= large | maxDets=100 ] = 0.620\n",
      " Average Recall     (AR) @[ IoU=0.50:0.95 | area=   all | maxDets=  1 ] = 0.232\n",
      " Average Recall     (AR) @[ IoU=0.50:0.95 | area=   all | maxDets= 10 ] = 0.536\n",
      " Average Recall     (AR) @[ IoU=0.50:0.95 | area=   all | maxDets=100 ] = 0.561\n",
      " Average Recall     (AR) @[ IoU=0.50:0.95 | area= small | maxDets=100 ] = 0.400\n",
      " Average Recall     (AR) @[ IoU=0.50:0.95 | area=medium | maxDets=100 ] = 0.600\n",
      " Average Recall     (AR) @[ IoU=0.50:0.95 | area= large | maxDets=100 ] = 0.710\n"
     ]
    }
   ],
   "source": [
    "prediction_result = torch.load('work_dirs/ped/vfnet_r101/init/eval/prediction_epoch_21.pth') # 21 0.785\n",
    "prediction_result_opt = [it for it in prediction_result if it['score'] >= 0]\n",
    "\n",
    "temp_json = 'work_dirs/ped/gfl/init/eval/temp.json'\n",
    "with open(temp_json, 'w') as f:\n",
    "    f.write(json.dumps(prediction_result_opt))\n",
    "    f.flush()\n",
    "    \n",
    "\n",
    "#####################################################\n",
    "gt_json = \"data/ped/annotations/dhd_traffic_val.json\"\n",
    "res_file = temp_json\n",
    "\n",
    "cocoGt = COCO(gt_json)\n",
    "cocoDt = cocoGt.loadRes(res_file) \n",
    "coco_eva = COCOeval(cocoGt, cocoDt, 'bbox')\n",
    "\n",
    "img_ids_in_cat = set(cocoGt.catToImgs[1])\n",
    "coco_eva.params.catIds = [1] #person id : 1\n",
    "# coco_eva.params.imgIds = list(img_ids_in_cat)\n",
    "\n",
    "coco_eva.evaluate()\n",
    "coco_eva.accumulate()\n",
    "out = coco_eva.summarize()"
   ]
  },
  {
   "cell_type": "code",
   "execution_count": null,
   "id": "d6a3b7f8",
   "metadata": {},
   "outputs": [],
   "source": []
  },
  {
   "cell_type": "code",
   "execution_count": 15,
   "id": "087e8722",
   "metadata": {},
   "outputs": [
    {
     "name": "stdout",
     "output_type": "stream",
     "text": [
      "output image size: 4997\n",
      "pedestrain detection size:  61606\n",
      "save output as /home/lqurszh/Documents/Data/Ped/results/merge/vfn_ep22.csv\n"
     ]
    }
   ],
   "source": [
    "#######\n",
    "\n",
    "import json\n",
    "import pandas as pd\n",
    "\n",
    "to_path = '/home/lqurszh/Documents/Data/Ped/results/merge/vfn_ep22.csv'\n",
    "\n",
    "with open(res_file) as f:\n",
    "    anns = json.load(f)\n",
    "ImgIds = set( [ann['image_id'] for ann in anns] )\n",
    "print(\"output image size: {}\".format(len(ImgIds)))\n",
    "\n",
    "data_dict = {\n",
    "    \"image_id\": [],\n",
    "    \"score\": [],\n",
    "    \"x\": [],\n",
    "    \"y\": [],\n",
    "    \"width\": [],\n",
    "    \"height\": [],\n",
    "}\n",
    "\n",
    "for res in anns:\n",
    "    if res['category_id'] == 1:\n",
    "        x,y,w,h = list(map(int, res['bbox']))\n",
    "        data_dict[\"image_id\"].append(res['image_id'])\n",
    "        data_dict[\"score\"].append(res['score'])\n",
    "        data_dict[\"x\"].append(x)\n",
    "        data_dict[\"y\"].append(y)\n",
    "        data_dict[\"width\"].append(w)\n",
    "        data_dict[\"height\"].append(h)\n",
    "print('pedestrain detection size: ', len(data_dict['image_id']))\n",
    "df = pd.DataFrame(data_dict)\n",
    "df.to_csv(to_path, index=False)\n",
    "print(\"save output as {}\".format(to_path))\n"
   ]
  },
  {
   "cell_type": "code",
   "execution_count": null,
   "id": "13407b19",
   "metadata": {},
   "outputs": [],
   "source": []
  }
 ],
 "metadata": {
  "kernelspec": {
   "display_name": "Python 3 (ipykernel)",
   "language": "python",
   "name": "python3"
  },
  "language_info": {
   "codemirror_mode": {
    "name": "ipython",
    "version": 3
   },
   "file_extension": ".py",
   "mimetype": "text/x-python",
   "name": "python",
   "nbconvert_exporter": "python",
   "pygments_lexer": "ipython3",
   "version": "3.8.11"
  }
 },
 "nbformat": 4,
 "nbformat_minor": 5
}
